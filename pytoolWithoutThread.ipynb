{
 "cells": [
  {
   "cell_type": "code",
   "execution_count": 1,
   "metadata": {},
   "outputs": [],
   "source": [
    "import pandas as pd\n",
    "from openai import OpenAI\n",
    "from dotenv import load_dotenv\n",
    "import os\n",
    "import time"
   ]
  },
  {
   "cell_type": "code",
   "execution_count": 2,
   "metadata": {},
   "outputs": [],
   "source": [
    "fixPrompt = \"I'm a ReactJS developer. I need to convert the following information into a raw string format for use in my React app. Finally, provide me the raw text which I can directly display on my React app. So, provide a single line raw text in string format. Follow these instructions:1. Do not modify any words in the text.2. Add newlines (\\n) for better readability.3. Add double asterisks (**) to make important titles bold. Only apply this to existing titles and headings in the text; do not forcefully create new ones.4. Every topic which has a sub-topic in it should be bold.5. If sub-topics are further nested, then bold them too.6. If numbering is needed, then give numbering to sub-concepts.7. Any word followed by a colon (:) should be bold.8. Do not add any quotes (single or double) around the text.9. Do not add any prefixes like `const rawtext =`.\""
   ]
  },
  {
   "cell_type": "code",
   "execution_count": 3,
   "metadata": {},
   "outputs": [],
   "source": [
    "def chatgptResponse(client,prompt,row_idx,col):\n",
    "    new_text = \"\"\n",
    "    try:\n",
    "        response = client.chat.completions.create(\n",
    "            model=\"gpt-3.5-turbo\",\n",
    "            messages=[{\"role\": \"user\", \"content\": prompt}],\n",
    "            stream=True,\n",
    "        )\n",
    "        for chunk in response:\n",
    "            if chunk.choices[0].delta.content is not None:\n",
    "                new_text += f'{chunk.choices[0].delta.content}'\n",
    "        return new_text\n",
    "    except Exception as e:\n",
    "        print(f\"\\n\\nError updating row {row_idx}, column '{col}': {e}\")"
   ]
  },
  {
   "cell_type": "code",
   "execution_count": 4,
   "metadata": {},
   "outputs": [],
   "source": [
    "\n",
    "def update_cell(df, col, row_idx, client):\n",
    "    original_text = df.at[row_idx, col]\n",
    "    prompt = f\"{fixPrompt} {original_text}\"\n",
    "    new_text = chatgptResponse(client,prompt,row_idx,col)\n",
    "    # # Ensure thread-safe update\n",
    "    # with lock:\n",
    "    df.at[row_idx, col] = new_text\n",
    "    print(f\"Row {row_idx}, column '{col}' updated\",end=\" \")"
   ]
  },
  {
   "cell_type": "code",
   "execution_count": 5,
   "metadata": {},
   "outputs": [],
   "source": [
    "def update_column(df,row,col,client):\n",
    "    for row_idx in row:\n",
    "        # print(row_idx)\n",
    "        if row_idx%20 == 0:\n",
    "            time.sleep(30)\n",
    "        update_cell(df, col, row_idx,client)\n",
    "        df[col] = df[col].apply(lambda x: x.replace('\\n', '\\\\n') if isinstance(x, str) else x)"
   ]
  },
  {
   "cell_type": "code",
   "execution_count": 6,
   "metadata": {},
   "outputs": [],
   "source": [
    "def main(file_path, output_file_path, client):\n",
    "    df = pd.read_excel(file_path)\n",
    "    df = df.dropna()\n",
    "    threads = []\n",
    "    # row = [r for r in df.index]\n",
    "    columns = [col for col in df.columns]\n",
    "    columns = columns[5:]\n",
    "    # row = [0,1,5,6,8,9,12,13,15,18,19,20,21,22,23,26,27,28,29,30,33,34,35,36,39,40,41,42,43,46,50,51,53,54,55,56,57,58,60,61,62,64,65,66,67,68,69]\n",
    "    row = [r for r in df.index]\n",
    "    # row = row[0:9]\n",
    "    \n",
    "    for col in columns:\n",
    "        update_column(df,row,col,client)\n",
    "        print(f\"\\nComplete {col} updated\")\n",
    "    #     thread = Thread(update_column, args=(df,row, col, client))\n",
    "    #     threads.append(thread)\n",
    "    #     thread.start()\n",
    "    \n",
    "    # for thread in threads:\n",
    "    #     thread.join()\n",
    "    \n",
    "    # Use xlsxwriter to write the DataFrame to Excel\n",
    "    writer = pd.ExcelWriter(output_file_path, engine='xlsxwriter')\n",
    "    df.to_excel(writer, index=False, sheet_name='Sheet1')\n",
    "    writer.close()\n",
    "    print(\"\\n\\nProcessing complete and output file saved\")"
   ]
  },
  {
   "cell_type": "code",
   "execution_count": 7,
   "metadata": {},
   "outputs": [
    {
     "name": "stdout",
     "output_type": "stream",
     "text": [
      "Row 1, column 'Summary' updated Row 2, column 'Summary' updated Row 3, column 'Summary' updated Row 4, column 'Summary' updated Row 5, column 'Summary' updated Row 6, column 'Summary' updated Row 8, column 'Summary' updated Row 9, column 'Summary' updated Row 10, column 'Summary' updated Row 11, column 'Summary' updated Row 12, column 'Summary' updated Row 13, column 'Summary' updated Row 15, column 'Summary' updated Row 16, column 'Summary' updated Row 17, column 'Summary' updated Row 18, column 'Summary' updated Row 19, column 'Summary' updated Row 20, column 'Summary' updated Row 22, column 'Summary' updated Row 23, column 'Summary' updated Row 24, column 'Summary' updated Row 25, column 'Summary' updated Row 26, column 'Summary' updated Row 27, column 'Summary' updated Row 29, column 'Summary' updated Row 30, column 'Summary' updated Row 31, column 'Summary' updated Row 32, column 'Summary' updated Row 33, column 'Summary' updated Row 34, column 'Summary' updated Row 36, column 'Summary' updated Row 37, column 'Summary' updated Row 38, column 'Summary' updated Row 39, column 'Summary' updated Row 40, column 'Summary' updated Row 41, column 'Summary' updated Row 43, column 'Summary' updated Row 44, column 'Summary' updated Row 45, column 'Summary' updated Row 46, column 'Summary' updated Row 47, column 'Summary' updated Row 49, column 'Summary' updated Row 50, column 'Summary' updated Row 51, column 'Summary' updated Row 52, column 'Summary' updated Row 53, column 'Summary' updated Row 54, column 'Summary' updated \n",
      "Complete Summary updated\n",
      "Row 1, column 'Lesson Plan' updated Row 2, column 'Lesson Plan' updated Row 3, column 'Lesson Plan' updated Row 4, column 'Lesson Plan' updated Row 5, column 'Lesson Plan' updated Row 6, column 'Lesson Plan' updated Row 8, column 'Lesson Plan' updated Row 9, column 'Lesson Plan' updated Row 10, column 'Lesson Plan' updated Row 11, column 'Lesson Plan' updated Row 12, column 'Lesson Plan' updated Row 13, column 'Lesson Plan' updated Row 15, column 'Lesson Plan' updated Row 16, column 'Lesson Plan' updated Row 17, column 'Lesson Plan' updated Row 18, column 'Lesson Plan' updated Row 19, column 'Lesson Plan' updated Row 20, column 'Lesson Plan' updated Row 22, column 'Lesson Plan' updated Row 23, column 'Lesson Plan' updated Row 24, column 'Lesson Plan' updated Row 25, column 'Lesson Plan' updated Row 26, column 'Lesson Plan' updated Row 27, column 'Lesson Plan' updated Row 29, column 'Lesson Plan' updated Row 30, column 'Lesson Plan' updated Row 31, column 'Lesson Plan' updated Row 32, column 'Lesson Plan' updated Row 33, column 'Lesson Plan' updated Row 34, column 'Lesson Plan' updated Row 36, column 'Lesson Plan' updated Row 37, column 'Lesson Plan' updated Row 38, column 'Lesson Plan' updated Row 39, column 'Lesson Plan' updated Row 40, column 'Lesson Plan' updated Row 41, column 'Lesson Plan' updated Row 43, column 'Lesson Plan' updated Row 44, column 'Lesson Plan' updated Row 45, column 'Lesson Plan' updated Row 46, column 'Lesson Plan' updated Row 47, column 'Lesson Plan' updated Row 49, column 'Lesson Plan' updated Row 50, column 'Lesson Plan' updated Row 51, column 'Lesson Plan' updated Row 52, column 'Lesson Plan' updated Row 53, column 'Lesson Plan' updated Row 54, column 'Lesson Plan' updated \n",
      "Complete Lesson Plan updated\n",
      "Row 1, column 'Teaching references' updated Row 2, column 'Teaching references' updated Row 3, column 'Teaching references' updated Row 4, column 'Teaching references' updated Row 5, column 'Teaching references' updated Row 6, column 'Teaching references' updated Row 8, column 'Teaching references' updated Row 9, column 'Teaching references' updated Row 10, column 'Teaching references' updated Row 11, column 'Teaching references' updated Row 12, column 'Teaching references' updated Row 13, column 'Teaching references' updated Row 15, column 'Teaching references' updated Row 16, column 'Teaching references' updated Row 17, column 'Teaching references' updated Row 18, column 'Teaching references' updated Row 19, column 'Teaching references' updated Row 20, column 'Teaching references' updated Row 22, column 'Teaching references' updated Row 23, column 'Teaching references' updated Row 24, column 'Teaching references' updated Row 25, column 'Teaching references' updated Row 26, column 'Teaching references' updated Row 27, column 'Teaching references' updated Row 29, column 'Teaching references' updated Row 30, column 'Teaching references' updated Row 31, column 'Teaching references' updated Row 32, column 'Teaching references' updated Row 33, column 'Teaching references' updated Row 34, column 'Teaching references' updated Row 36, column 'Teaching references' updated Row 37, column 'Teaching references' updated Row 38, column 'Teaching references' updated Row 39, column 'Teaching references' updated Row 40, column 'Teaching references' updated Row 41, column 'Teaching references' updated Row 43, column 'Teaching references' updated Row 44, column 'Teaching references' updated Row 45, column 'Teaching references' updated Row 46, column 'Teaching references' updated Row 47, column 'Teaching references' updated Row 49, column 'Teaching references' updated Row 50, column 'Teaching references' updated Row 51, column 'Teaching references' updated Row 52, column 'Teaching references' updated Row 53, column 'Teaching references' updated Row 54, column 'Teaching references' updated \n",
      "Complete Teaching references updated\n",
      "Row 1, column 'Easy Home work' updated Row 2, column 'Easy Home work' updated Row 3, column 'Easy Home work' updated Row 4, column 'Easy Home work' updated Row 5, column 'Easy Home work' updated Row 6, column 'Easy Home work' updated Row 8, column 'Easy Home work' updated Row 9, column 'Easy Home work' updated Row 10, column 'Easy Home work' updated Row 11, column 'Easy Home work' updated Row 12, column 'Easy Home work' updated Row 13, column 'Easy Home work' updated Row 15, column 'Easy Home work' updated Row 16, column 'Easy Home work' updated Row 17, column 'Easy Home work' updated Row 18, column 'Easy Home work' updated Row 19, column 'Easy Home work' updated Row 20, column 'Easy Home work' updated Row 22, column 'Easy Home work' updated Row 23, column 'Easy Home work' updated Row 24, column 'Easy Home work' updated Row 25, column 'Easy Home work' updated Row 26, column 'Easy Home work' updated Row 27, column 'Easy Home work' updated Row 29, column 'Easy Home work' updated Row 30, column 'Easy Home work' updated Row 31, column 'Easy Home work' updated Row 32, column 'Easy Home work' updated Row 33, column 'Easy Home work' updated Row 34, column 'Easy Home work' updated Row 36, column 'Easy Home work' updated Row 37, column 'Easy Home work' updated Row 38, column 'Easy Home work' updated Row 39, column 'Easy Home work' updated Row 40, column 'Easy Home work' updated Row 41, column 'Easy Home work' updated Row 43, column 'Easy Home work' updated Row 44, column 'Easy Home work' updated Row 45, column 'Easy Home work' updated Row 46, column 'Easy Home work' updated Row 47, column 'Easy Home work' updated Row 49, column 'Easy Home work' updated Row 50, column 'Easy Home work' updated Row 51, column 'Easy Home work' updated Row 52, column 'Easy Home work' updated Row 53, column 'Easy Home work' updated Row 54, column 'Easy Home work' updated \n",
      "Complete Easy Home work updated\n",
      "Row 1, column 'Medium Homework' updated Row 2, column 'Medium Homework' updated Row 3, column 'Medium Homework' updated Row 4, column 'Medium Homework' updated Row 5, column 'Medium Homework' updated Row 6, column 'Medium Homework' updated Row 8, column 'Medium Homework' updated Row 9, column 'Medium Homework' updated Row 10, column 'Medium Homework' updated Row 11, column 'Medium Homework' updated Row 12, column 'Medium Homework' updated Row 13, column 'Medium Homework' updated Row 15, column 'Medium Homework' updated Row 16, column 'Medium Homework' updated Row 17, column 'Medium Homework' updated Row 18, column 'Medium Homework' updated Row 19, column 'Medium Homework' updated Row 20, column 'Medium Homework' updated Row 22, column 'Medium Homework' updated Row 23, column 'Medium Homework' updated Row 24, column 'Medium Homework' updated Row 25, column 'Medium Homework' updated Row 26, column 'Medium Homework' updated Row 27, column 'Medium Homework' updated Row 29, column 'Medium Homework' updated Row 30, column 'Medium Homework' updated Row 31, column 'Medium Homework' updated Row 32, column 'Medium Homework' updated Row 33, column 'Medium Homework' updated Row 34, column 'Medium Homework' updated Row 36, column 'Medium Homework' updated Row 37, column 'Medium Homework' updated Row 38, column 'Medium Homework' updated Row 39, column 'Medium Homework' updated Row 40, column 'Medium Homework' updated Row 41, column 'Medium Homework' updated Row 43, column 'Medium Homework' updated Row 44, column 'Medium Homework' updated Row 45, column 'Medium Homework' updated Row 46, column 'Medium Homework' updated Row 47, column 'Medium Homework' updated Row 49, column 'Medium Homework' updated Row 50, column 'Medium Homework' updated Row 51, column 'Medium Homework' updated Row 52, column 'Medium Homework' updated Row 53, column 'Medium Homework' updated Row 54, column 'Medium Homework' updated \n",
      "Complete Medium Homework updated\n",
      "Row 1, column 'Hard Homework' updated Row 2, column 'Hard Homework' updated Row 3, column 'Hard Homework' updated Row 4, column 'Hard Homework' updated Row 5, column 'Hard Homework' updated Row 6, column 'Hard Homework' updated Row 8, column 'Hard Homework' updated Row 9, column 'Hard Homework' updated Row 10, column 'Hard Homework' updated Row 11, column 'Hard Homework' updated Row 12, column 'Hard Homework' updated Row 13, column 'Hard Homework' updated Row 15, column 'Hard Homework' updated Row 16, column 'Hard Homework' updated Row 17, column 'Hard Homework' updated Row 18, column 'Hard Homework' updated Row 19, column 'Hard Homework' updated Row 20, column 'Hard Homework' updated Row 22, column 'Hard Homework' updated Row 23, column 'Hard Homework' updated Row 24, column 'Hard Homework' updated Row 25, column 'Hard Homework' updated Row 26, column 'Hard Homework' updated Row 27, column 'Hard Homework' updated Row 29, column 'Hard Homework' updated Row 30, column 'Hard Homework' updated Row 31, column 'Hard Homework' updated Row 32, column 'Hard Homework' updated Row 33, column 'Hard Homework' updated Row 34, column 'Hard Homework' updated Row 36, column 'Hard Homework' updated Row 37, column 'Hard Homework' updated Row 38, column 'Hard Homework' updated Row 39, column 'Hard Homework' updated Row 40, column 'Hard Homework' updated Row 41, column 'Hard Homework' updated Row 43, column 'Hard Homework' updated Row 44, column 'Hard Homework' updated Row 45, column 'Hard Homework' updated Row 46, column 'Hard Homework' updated Row 47, column 'Hard Homework' updated Row 49, column 'Hard Homework' updated Row 50, column 'Hard Homework' updated Row 51, column 'Hard Homework' updated Row 52, column 'Hard Homework' updated Row 53, column 'Hard Homework' updated Row 54, column 'Hard Homework' updated \n",
      "Complete Hard Homework updated\n",
      "Row 1, column 'Easy Classwork' updated Row 2, column 'Easy Classwork' updated Row 3, column 'Easy Classwork' updated Row 4, column 'Easy Classwork' updated Row 5, column 'Easy Classwork' updated Row 6, column 'Easy Classwork' updated Row 8, column 'Easy Classwork' updated Row 9, column 'Easy Classwork' updated Row 10, column 'Easy Classwork' updated Row 11, column 'Easy Classwork' updated Row 12, column 'Easy Classwork' updated Row 13, column 'Easy Classwork' updated Row 15, column 'Easy Classwork' updated Row 16, column 'Easy Classwork' updated Row 17, column 'Easy Classwork' updated Row 18, column 'Easy Classwork' updated Row 19, column 'Easy Classwork' updated Row 20, column 'Easy Classwork' updated Row 22, column 'Easy Classwork' updated Row 23, column 'Easy Classwork' updated Row 24, column 'Easy Classwork' updated Row 25, column 'Easy Classwork' updated Row 26, column 'Easy Classwork' updated Row 27, column 'Easy Classwork' updated Row 29, column 'Easy Classwork' updated Row 30, column 'Easy Classwork' updated Row 31, column 'Easy Classwork' updated Row 32, column 'Easy Classwork' updated Row 33, column 'Easy Classwork' updated Row 34, column 'Easy Classwork' updated Row 36, column 'Easy Classwork' updated Row 37, column 'Easy Classwork' updated Row 38, column 'Easy Classwork' updated Row 39, column 'Easy Classwork' updated Row 40, column 'Easy Classwork' updated Row 41, column 'Easy Classwork' updated Row 43, column 'Easy Classwork' updated Row 44, column 'Easy Classwork' updated Row 45, column 'Easy Classwork' updated Row 46, column 'Easy Classwork' updated Row 47, column 'Easy Classwork' updated Row 49, column 'Easy Classwork' updated Row 50, column 'Easy Classwork' updated Row 51, column 'Easy Classwork' updated Row 52, column 'Easy Classwork' updated Row 53, column 'Easy Classwork' updated Row 54, column 'Easy Classwork' updated \n",
      "Complete Easy Classwork updated\n",
      "Row 1, column 'Medium Classwork' updated Row 2, column 'Medium Classwork' updated Row 3, column 'Medium Classwork' updated Row 4, column 'Medium Classwork' updated Row 5, column 'Medium Classwork' updated Row 6, column 'Medium Classwork' updated Row 8, column 'Medium Classwork' updated Row 9, column 'Medium Classwork' updated Row 10, column 'Medium Classwork' updated Row 11, column 'Medium Classwork' updated Row 12, column 'Medium Classwork' updated Row 13, column 'Medium Classwork' updated Row 15, column 'Medium Classwork' updated "
     ]
    }
   ],
   "source": [
    "if __name__ == \"__main__\":\n",
    "    api_key = os.getenv('OPEN_API_KEY')\n",
    "    client = OpenAI(api_key=api_key)\n",
    "    file_path = 'ltass.xlsx' \n",
    "    output_file_path = 'verifiedss.xlsx' \n",
    "    main(file_path, output_file_path,client)"
   ]
  }
 ],
 "metadata": {
  "kernelspec": {
   "display_name": "pytool",
   "language": "python",
   "name": "python3"
  },
  "language_info": {
   "codemirror_mode": {
    "name": "ipython",
    "version": 3
   },
   "file_extension": ".py",
   "mimetype": "text/x-python",
   "name": "python",
   "nbconvert_exporter": "python",
   "pygments_lexer": "ipython3",
   "version": "3.12.0"
  }
 },
 "nbformat": 4,
 "nbformat_minor": 2
}
