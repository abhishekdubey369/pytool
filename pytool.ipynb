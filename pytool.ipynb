{
 "cells": [
  {
   "cell_type": "code",
   "execution_count": 17,
   "metadata": {},
   "outputs": [],
   "source": [
    "import pandas as pd\n",
    "from openai import OpenAI"
   ]
  },
  {
   "cell_type": "code",
   "execution_count": 19,
   "metadata": {},
   "outputs": [],
   "source": [
    "client = OpenAI(api_key=\"\")"
   ]
  },
  {
   "cell_type": "code",
   "execution_count": 39,
   "metadata": {},
   "outputs": [],
   "source": [
    "data = pd.read_excel(\"lta.xlsx\")"
   ]
  },
  {
   "cell_type": "code",
   "execution_count": 6,
   "metadata": {},
   "outputs": [],
   "source": [
    "columns = [ 'Summary',\n",
    "       'Home work', 'Easy Homework', 'Medium Homework', 'Hard Homework',\n",
    "       'Classwork', 'Easy Classwork', 'Medium Classwork', 'Hard Classwork',\n",
    "       'Assessment', 'Easy Assessment', 'Medium Assessment', 'Hard Assessment',\n",
    "       'Training references', 'Real world scenarios', 'Lesson Plan',\n",
    "       'Test/Exam']"
   ]
  },
  {
   "cell_type": "code",
   "execution_count": 40,
   "metadata": {},
   "outputs": [],
   "source": [
    "a = data[\"Lesson Plan\"]"
   ]
  },
  {
   "cell_type": "code",
   "execution_count": 52,
   "metadata": {},
   "outputs": [],
   "source": [
    "for dat in a:\n",
    "    t=i\n",
    "    i = dat"
   ]
  },
  {
   "cell_type": "code",
   "execution_count": 54,
   "metadata": {},
   "outputs": [
    {
     "data": {
      "text/plain": [
       "'Objective: Focus on using descriptive adjectives and verbs to talk about characters and actions.\\nClasswork: Identify descriptive words in the story and create sentences describing other well-known leaders using similar language.\\nMaterials: Story excerpts, whiteboard.\\nTime: 10 minutes.'"
      ]
     },
     "execution_count": 54,
     "metadata": {},
     "output_type": "execute_result"
    }
   ],
   "source": []
  },
  {
   "cell_type": "code",
   "execution_count": 57,
   "metadata": {},
   "outputs": [],
   "source": [
    "prompt = f\"I'm a ReactJS developer. For the information provided below, I want to convert the data into raw string format which can be used in my React app. Firstly, do not modify any word in the text. Then apply basic formatting such as adding newline and double asterisks for making important titles in the text bold. These newline and double asterisks should be inside the string format. If there are no such titles in the text, do not forcefully apply bold formatting. Finally, provide me the raw text which I can directly display on my React app. So, provide a single line raw text in string format. {t}\""
   ]
  },
  {
   "cell_type": "code",
   "execution_count": 58,
   "metadata": {},
   "outputs": [],
   "source": [
    "stream = client.chat.completions.create(\n",
    "    model=\"gpt-3.5-turbo\",\n",
    "    messages=[{\"role\": \"user\", \"content\": prompt }],\n",
    "    stream=True,\n",
    ")"
   ]
  },
  {
   "cell_type": "code",
   "execution_count": 59,
   "metadata": {},
   "outputs": [
    {
     "name": "stdout",
     "output_type": "stream",
     "text": [
      "\"Objective: Learn and use vocabulary related to **leadership** and qualities, such as \"worthy,\" \"contest,\" \"triumphantly,\" and cultural terms from the story. Classwork: Vocabulary matching activity where students match words to their definitions and use them in sentences about **leadership**. Materials: Vocabulary cards, worksheets. Time: 10 minutes.\""
     ]
    }
   ],
   "source": [
    "for chunk in stream:\n",
    "    if chunk.choices[0].delta.content is not None:\n",
    "        print(chunk.choices[0].delta.content, end=\"\")"
   ]
  }
 ],
 "metadata": {
  "kernelspec": {
   "display_name": "pytool",
   "language": "python",
   "name": "python3"
  },
  "language_info": {
   "codemirror_mode": {
    "name": "ipython",
    "version": 3
   },
   "file_extension": ".py",
   "mimetype": "text/x-python",
   "name": "python",
   "nbconvert_exporter": "python",
   "pygments_lexer": "ipython3",
   "version": "3.12.0"
  }
 },
 "nbformat": 4,
 "nbformat_minor": 2
}
